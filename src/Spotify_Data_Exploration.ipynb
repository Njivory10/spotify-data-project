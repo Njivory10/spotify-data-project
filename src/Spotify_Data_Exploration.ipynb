{
 "cells": [
  {
   "cell_type": "markdown",
   "id": "f3a300be",
   "metadata": {},
   "source": [
    "# Spotify Data Project"
   ]
  },
  {
   "cell_type": "markdown",
   "id": "5a80b6fc",
   "metadata": {},
   "source": [
    "Authored by Nick Ivory\n",
    "Version 1.0\n",
    "5/18/25"
   ]
  },
  {
   "cell_type": "markdown",
   "id": "714579e2",
   "metadata": {},
   "source": [
    "## Project Overview - Exploratory Data Analysis with Spotify API Data"
   ]
  },
  {
   "cell_type": "markdown",
   "id": "52f98a38",
   "metadata": {},
   "source": [
    "-----\n",
    "I wanted to build a project that would help me learn and explore three subject areas:\n",
    "- Proof of Concept \n",
    "- Using Polars' columnar data format to investigate performance improvements over Pandas\n",
    "- Principal Component Analysis, to determine hidden insights into the underlying dataset\n",
    "\n",
    "In lieu of actually accessing Spotify's open API, I used the following Kaggle dataset: [Spotify Tracks DB](https://www.kaggle.com/datasets/zaheenhamidani/ultimate-spotify-tracks-db/data)\n",
    "\n",
    "I set out to answer the following questions:\n",
    "> \"How do I \"\n",
    "\n",
    "\n",
    "-----"
   ]
  },
  {
   "cell_type": "markdown",
   "id": "4bb5699d",
   "metadata": {},
   "source": [
    "## Install Dependencies"
   ]
  },
  {
   "cell_type": "code",
   "execution_count": 1,
   "id": "3daa87f7",
   "metadata": {},
   "outputs": [
    {
     "name": "stdout",
     "output_type": "stream",
     "text": [
      "\u001b[31mERROR: Could not open requirements file: [Errno 2] No such file or directory: 'requirements.txt'\u001b[0m\u001b[31m\n",
      "\u001b[0m"
     ]
    }
   ],
   "source": [
    "!pip install -r requirements.txt"
   ]
  },
  {
   "cell_type": "code",
   "execution_count": 1,
   "id": "1bfcdcf3",
   "metadata": {},
   "outputs": [
    {
     "name": "stdout",
     "output_type": "stream",
     "text": [
      "Requirement already satisfied: kagglehub[pandas-datasets] in /Users/nicholasivory/dev/personal/spotify-data-project/venv/lib/python3.9/site-packages (0.3.12)\n",
      "Requirement already satisfied: pyyaml in /Users/nicholasivory/dev/personal/spotify-data-project/venv/lib/python3.9/site-packages (from kagglehub[pandas-datasets]) (6.0.2)\n",
      "Requirement already satisfied: tqdm in /Users/nicholasivory/dev/personal/spotify-data-project/venv/lib/python3.9/site-packages (from kagglehub[pandas-datasets]) (4.67.1)\n",
      "Requirement already satisfied: packaging in /Users/nicholasivory/dev/personal/spotify-data-project/venv/lib/python3.9/site-packages (from kagglehub[pandas-datasets]) (25.0)\n",
      "Requirement already satisfied: requests in /Users/nicholasivory/dev/personal/spotify-data-project/venv/lib/python3.9/site-packages (from kagglehub[pandas-datasets]) (2.32.3)\n",
      "Requirement already satisfied: pandas in /Users/nicholasivory/dev/personal/spotify-data-project/venv/lib/python3.9/site-packages (from kagglehub[pandas-datasets]) (2.2.3)\n",
      "Requirement already satisfied: python-dateutil>=2.8.2 in /Users/nicholasivory/dev/personal/spotify-data-project/venv/lib/python3.9/site-packages (from pandas->kagglehub[pandas-datasets]) (2.9.0.post0)\n",
      "Requirement already satisfied: numpy>=1.22.4 in /Users/nicholasivory/dev/personal/spotify-data-project/venv/lib/python3.9/site-packages (from pandas->kagglehub[pandas-datasets]) (2.0.2)\n",
      "Requirement already satisfied: tzdata>=2022.7 in /Users/nicholasivory/dev/personal/spotify-data-project/venv/lib/python3.9/site-packages (from pandas->kagglehub[pandas-datasets]) (2025.2)\n",
      "Requirement already satisfied: pytz>=2020.1 in /Users/nicholasivory/dev/personal/spotify-data-project/venv/lib/python3.9/site-packages (from pandas->kagglehub[pandas-datasets]) (2025.2)\n",
      "Requirement already satisfied: urllib3<3,>=1.21.1 in /Users/nicholasivory/dev/personal/spotify-data-project/venv/lib/python3.9/site-packages (from requests->kagglehub[pandas-datasets]) (2.4.0)\n",
      "Requirement already satisfied: certifi>=2017.4.17 in /Users/nicholasivory/dev/personal/spotify-data-project/venv/lib/python3.9/site-packages (from requests->kagglehub[pandas-datasets]) (2025.4.26)\n",
      "Requirement already satisfied: idna<4,>=2.5 in /Users/nicholasivory/dev/personal/spotify-data-project/venv/lib/python3.9/site-packages (from requests->kagglehub[pandas-datasets]) (3.10)\n",
      "Requirement already satisfied: charset-normalizer<4,>=2 in /Users/nicholasivory/dev/personal/spotify-data-project/venv/lib/python3.9/site-packages (from requests->kagglehub[pandas-datasets]) (3.4.2)\n",
      "Requirement already satisfied: six>=1.5 in /Users/nicholasivory/dev/personal/spotify-data-project/venv/lib/python3.9/site-packages (from python-dateutil>=2.8.2->pandas->kagglehub[pandas-datasets]) (1.17.0)\n",
      "\u001b[33mWARNING: You are using pip version 22.0.4; however, version 25.1.1 is available.\n",
      "You should consider upgrading via the '/Users/nicholasivory/dev/personal/spotify-data-project/venv/bin/python3 -m pip install --upgrade pip' command.\u001b[0m\u001b[33m\n",
      "\u001b[0mRequirement already satisfied: kagglehub[polars-datasets] in /Users/nicholasivory/dev/personal/spotify-data-project/venv/lib/python3.9/site-packages (0.3.12)\n",
      "Requirement already satisfied: requests in /Users/nicholasivory/dev/personal/spotify-data-project/venv/lib/python3.9/site-packages (from kagglehub[polars-datasets]) (2.32.3)\n",
      "Requirement already satisfied: tqdm in /Users/nicholasivory/dev/personal/spotify-data-project/venv/lib/python3.9/site-packages (from kagglehub[polars-datasets]) (4.67.1)\n",
      "Requirement already satisfied: pyyaml in /Users/nicholasivory/dev/personal/spotify-data-project/venv/lib/python3.9/site-packages (from kagglehub[polars-datasets]) (6.0.2)\n",
      "Requirement already satisfied: packaging in /Users/nicholasivory/dev/personal/spotify-data-project/venv/lib/python3.9/site-packages (from kagglehub[polars-datasets]) (25.0)\n",
      "Requirement already satisfied: polars in /Users/nicholasivory/dev/personal/spotify-data-project/venv/lib/python3.9/site-packages (from kagglehub[polars-datasets]) (1.29.0)\n",
      "Requirement already satisfied: certifi>=2017.4.17 in /Users/nicholasivory/dev/personal/spotify-data-project/venv/lib/python3.9/site-packages (from requests->kagglehub[polars-datasets]) (2025.4.26)\n",
      "Requirement already satisfied: urllib3<3,>=1.21.1 in /Users/nicholasivory/dev/personal/spotify-data-project/venv/lib/python3.9/site-packages (from requests->kagglehub[polars-datasets]) (2.4.0)\n",
      "Requirement already satisfied: idna<4,>=2.5 in /Users/nicholasivory/dev/personal/spotify-data-project/venv/lib/python3.9/site-packages (from requests->kagglehub[polars-datasets]) (3.10)\n",
      "Requirement already satisfied: charset-normalizer<4,>=2 in /Users/nicholasivory/dev/personal/spotify-data-project/venv/lib/python3.9/site-packages (from requests->kagglehub[polars-datasets]) (3.4.2)\n",
      "\u001b[33mWARNING: You are using pip version 22.0.4; however, version 25.1.1 is available.\n",
      "You should consider upgrading via the '/Users/nicholasivory/dev/personal/spotify-data-project/venv/bin/python3 -m pip install --upgrade pip' command.\u001b[0m\u001b[33m\n",
      "\u001b[0mRequirement already satisfied: polars in /Users/nicholasivory/dev/personal/spotify-data-project/venv/lib/python3.9/site-packages (1.29.0)\n",
      "\u001b[33mWARNING: You are using pip version 22.0.4; however, version 25.1.1 is available.\n",
      "You should consider upgrading via the '/Users/nicholasivory/dev/personal/spotify-data-project/venv/bin/python3 -m pip install --upgrade pip' command.\u001b[0m\u001b[33m\n",
      "\u001b[0m"
     ]
    }
   ],
   "source": [
    "# Install dependencies as needed:\n",
    "!pip install 'kagglehub[pandas-datasets]'\n",
    "!pip install 'kagglehub[polars-datasets]'"
   ]
  },
  {
   "cell_type": "markdown",
   "id": "9b32af49",
   "metadata": {},
   "source": [
    "## Import Library Dependencies"
   ]
  },
  {
   "cell_type": "code",
   "execution_count": null,
   "id": "75ba5afd",
   "metadata": {},
   "outputs": [],
   "source": [
    "import kagglehub\n",
    "from kagglehub import KaggleDatasetAdapter\n",
    "import pandas as pd\n",
    "import polars as pl"
   ]
  },
  {
   "cell_type": "markdown",
   "id": "838a72df",
   "metadata": {},
   "source": [
    "## Import Kaggle Dataset Using Pandas"
   ]
  },
  {
   "cell_type": "code",
   "execution_count": 3,
   "id": "88b86e08",
   "metadata": {},
   "outputs": [
    {
     "name": "stderr",
     "output_type": "stream",
     "text": [
      "/var/folders/4v/4nbj6pg96h3c8v4mjpv3wd340000gn/T/ipykernel_26918/1261988224.py:5: DeprecationWarning: load_dataset is deprecated and will be removed in a future version.\n",
      "  df = kagglehub.load_dataset(\n"
     ]
    },
    {
     "name": "stdout",
     "output_type": "stream",
     "text": [
      "First 5 records:    genre        artist_name                        track_name  \\\n",
      "0  Movie     Henri Salvador       C'est beau de faire un Show   \n",
      "1  Movie  Martin & les fées  Perdu d'avance (par Gad Elmaleh)   \n",
      "2  Movie    Joseph Williams    Don't Let Me Be Lonely Tonight   \n",
      "3  Movie     Henri Salvador    Dis-moi Monsieur Gordon Cooper   \n",
      "4  Movie       Fabien Nataf                         Ouverture   \n",
      "\n",
      "                 track_id  popularity  acousticness  danceability  \\\n",
      "0  0BRjO6ga9RKCKjfDqeFgWV           0         0.611         0.389   \n",
      "1  0BjC1NfoEOOusryehmNudP           1         0.246         0.590   \n",
      "2  0CoSDzoNIKCRs124s9uTVy           3         0.952         0.663   \n",
      "3  0Gc6TVm52BwZD07Ki6tIvf           0         0.703         0.240   \n",
      "4  0IuslXpMROHdEPvSl1fTQK           4         0.950         0.331   \n",
      "\n",
      "   duration_ms  energy  instrumentalness key  liveness  loudness   mode  \\\n",
      "0        99373   0.910             0.000  C#    0.3460    -1.828  Major   \n",
      "1       137373   0.737             0.000  F#    0.1510    -5.559  Minor   \n",
      "2       170267   0.131             0.000   C    0.1030   -13.879  Minor   \n",
      "3       152427   0.326             0.000  C#    0.0985   -12.178  Major   \n",
      "4        82625   0.225             0.123   F    0.2020   -21.150  Major   \n",
      "\n",
      "   speechiness    tempo time_signature  valence  \n",
      "0       0.0525  166.969            4/4    0.814  \n",
      "1       0.0868  174.003            4/4    0.816  \n",
      "2       0.0362   99.488            5/4    0.368  \n",
      "3       0.0395  171.758            4/4    0.227  \n",
      "4       0.0456  140.576            4/4    0.390  \n"
     ]
    }
   ],
   "source": [
    "# Set the path to the file you'd like to load\n",
    "file_path = \"SpotifyFeatures.csv\"\n",
    "\n",
    "# Load the latest version\n",
    "df = kagglehub.load_dataset(\n",
    "  KaggleDatasetAdapter.PANDAS,\n",
    "  \"zaheenhamidani/ultimate-spotify-tracks-db\",\n",
    "  file_path,\n",
    "  # Provide any additional arguments like \n",
    "  # sql_query or pandas_kwargs. See the \n",
    "  # documenation for more information:\n",
    "  # https://github.com/Kaggle/kagglehub/blob/main/README.md#kaggledatasetadapterpandas\n",
    ")\n",
    "\n",
    "print(\"First 5 records:\", df.head())"
   ]
  },
  {
   "cell_type": "markdown",
   "id": "6cbe186f",
   "metadata": {},
   "source": [
    "## Import Kaggle Dataset Using Polars"
   ]
  },
  {
   "cell_type": "code",
   "execution_count": null,
   "id": "3602e1e6",
   "metadata": {},
   "outputs": [],
   "source": [
    "# Set the path to the file you'd like to load\n",
    "file_path = \"SpotifyFeatures.csv\"\n",
    "\n",
    "# Load the latest version\n",
    "lf = kagglehub.load_dataset(\n",
    "  KaggleDatasetAdapter.POLARS,\n",
    "  \"zaheenhamidani/ultimate-spotify-tracks-db\",\n",
    "  file_path,\n",
    "  # Provide any additional arguments like\n",
    "  # sql_query, polars_frame_type, or \n",
    "  # polars_kwargs.\n",
    "  # See the documenation for more information:\n",
    "  # https://github.com/Kaggle/kagglehub/blob/main/README.md#kaggledatasetadapterpolars\n",
    ")\n",
    "\n",
    "print(\"First 5 records:\", lf.collect().head())"
   ]
  },
  {
   "cell_type": "code",
   "execution_count": null,
   "id": "7b8b70d8",
   "metadata": {},
   "outputs": [],
   "source": []
  },
  {
   "cell_type": "code",
   "execution_count": null,
   "id": "2d945680",
   "metadata": {},
   "outputs": [],
   "source": []
  }
 ],
 "metadata": {
  "kernelspec": {
   "display_name": "PythonARM spotify-data-project",
   "language": "python",
   "name": "spotify-data-project"
  },
  "language_info": {
   "codemirror_mode": {
    "name": "ipython",
    "version": 3
   },
   "file_extension": ".py",
   "mimetype": "text/x-python",
   "name": "python",
   "nbconvert_exporter": "python",
   "pygments_lexer": "ipython3",
   "version": "3.9.13"
  }
 },
 "nbformat": 4,
 "nbformat_minor": 5
}
